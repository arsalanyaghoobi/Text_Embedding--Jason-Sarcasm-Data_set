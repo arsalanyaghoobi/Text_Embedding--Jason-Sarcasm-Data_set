{
  "nbformat": 4,
  "nbformat_minor": 0,
  "metadata": {
    "colab": {
      "name": "json_sarcasm_datastore",
      "provenance": [],
      "collapsed_sections": [],
      "include_colab_link": true
    },
    "kernelspec": {
      "name": "python3",
      "display_name": "Python 3"
    }
  },
  "cells": [
    {
      "cell_type": "markdown",
      "metadata": {
        "id": "view-in-github",
        "colab_type": "text"
      },
      "source": [
        "<a href=\"https://colab.research.google.com/github/arsalanyaghoobi/Text_Embedding--Jason-Sarcasm-Data_set/blob/master/json_sarcasm_datastore.ipynb\" target=\"_parent\"><img src=\"https://colab.research.google.com/assets/colab-badge.svg\" alt=\"Open In Colab\"/></a>"
      ]
    },
    {
      "cell_type": "code",
      "metadata": {
        "id": "T3kwFZ7PAvHD",
        "colab_type": "code",
        "colab": {}
      },
      "source": [
        "import tensorflow as tf\n",
        "import json\n",
        "import numpy as np\n",
        "import matplotlib.pyplot as plt"
      ],
      "execution_count": 1,
      "outputs": []
    },
    {
      "cell_type": "code",
      "metadata": {
        "id": "skFoUySsaURI",
        "colab_type": "code",
        "colab": {}
      },
      "source": [
        "from tensorflow.keras.preprocessing.text import Tokenizer\n",
        "from tensorflow.keras.preprocessing.sequence import pad_sequences"
      ],
      "execution_count": 2,
      "outputs": []
    },
    {
      "cell_type": "code",
      "metadata": {
        "id": "14inbW7PbOXo",
        "colab_type": "code",
        "colab": {}
      },
      "source": [
        "vocab_size=10000\n",
        "embedding_dim=16\n",
        "max_length=32\n",
        "oov_token=\"<oov>\"\n",
        "trunc_type='post'\n",
        "padding_type='post'\n",
        "training_size=20000"
      ],
      "execution_count": 3,
      "outputs": []
    },
    {
      "cell_type": "code",
      "metadata": {
        "id": "FMB_PQt9cCuI",
        "colab_type": "code",
        "colab": {
          "base_uri": "https://localhost:8080/",
          "height": 300
        },
        "outputId": "14f92e96-df20-424f-a1f8-f447db7955eb"
      },
      "source": [
        "!wget __no_check_certificate \\\n",
        "https://storage.googleapis.com/laurencemoroney-blog.appspot.com/sarcasm.json"
      ],
      "execution_count": 4,
      "outputs": [
        {
          "output_type": "stream",
          "text": [
            "--2020-07-30 08:01:16--  http://__no_check_certificate/\n",
            "Resolving __no_check_certificate (__no_check_certificate)... failed: Name or service not known.\n",
            "wget: unable to resolve host address ‘__no_check_certificate’\n",
            "--2020-07-30 08:01:16--  https://storage.googleapis.com/laurencemoroney-blog.appspot.com/sarcasm.json\n",
            "Resolving storage.googleapis.com (storage.googleapis.com)... 108.177.97.128, 108.177.125.128, 74.125.203.128, ...\n",
            "Connecting to storage.googleapis.com (storage.googleapis.com)|108.177.97.128|:443... connected.\n",
            "HTTP request sent, awaiting response... 200 OK\n",
            "Length: 5643545 (5.4M) [application/json]\n",
            "Saving to: ‘sarcasm.json’\n",
            "\n",
            "\rsarcasm.json          0%[                    ]       0  --.-KB/s               \rsarcasm.json        100%[===================>]   5.38M  --.-KB/s    in 0.09s   \n",
            "\n",
            "2020-07-30 08:01:17 (62.7 MB/s) - ‘sarcasm.json’ saved [5643545/5643545]\n",
            "\n",
            "FINISHED --2020-07-30 08:01:17--\n",
            "Total wall clock time: 0.5s\n",
            "Downloaded: 1 files, 5.4M in 0.09s (62.7 MB/s)\n"
          ],
          "name": "stdout"
        }
      ]
    },
    {
      "cell_type": "code",
      "metadata": {
        "id": "rLQNZI-0dJs_",
        "colab_type": "code",
        "colab": {}
      },
      "source": [
        "with open ('/content/sarcasm.json','r') as f:\n",
        "  datastore=json.load(f)\n",
        "\n",
        "sentences=[]\n",
        "labels=[]\n",
        "\n",
        "for item in datastore:\n",
        "  sentences.append(item['headline'])\n",
        "  labels.append(item['is_sarcastic'])"
      ],
      "execution_count": 5,
      "outputs": []
    },
    {
      "cell_type": "code",
      "metadata": {
        "id": "REFrmI0Ehg5L",
        "colab_type": "code",
        "colab": {}
      },
      "source": [
        "training_sentences=sentences[0:training_size]\n",
        "test_sentences=sentences[training_size:]\n",
        "training_labels=labels[0:training_size]\n",
        "test_labels=labels[training_size:]"
      ],
      "execution_count": 6,
      "outputs": []
    },
    {
      "cell_type": "code",
      "metadata": {
        "id": "wvd3skwGvyCr",
        "colab_type": "code",
        "colab": {}
      },
      "source": [
        "tokenizer=Tokenizer(num_words=vocab_size,oov_token=oov_token)\n",
        "word_index=tokenizer.word_index"
      ],
      "execution_count": 7,
      "outputs": []
    },
    {
      "cell_type": "code",
      "metadata": {
        "id": "Vt9AqJdQLSww",
        "colab_type": "code",
        "colab": {}
      },
      "source": [
        "tokenizer.fit_on_texts(training_sentences)\n",
        "training_sequences=tokenizer.texts_to_sequences(training_sentences)\n",
        "training_padded=pad_sequences(training_sequences,maxlen=max_length,padding=padding_type,truncating=trunc_type)"
      ],
      "execution_count": 8,
      "outputs": []
    },
    {
      "cell_type": "code",
      "metadata": {
        "colab_type": "code",
        "id": "zOtL6DqOeN_U",
        "colab": {}
      },
      "source": [
        "test_sequences=tokenizer.texts_to_sequences(test_sentences)\n",
        "test_padded=pad_sequences(test_sequences,maxlen=max_length,padding=padding_type,truncating=trunc_type)"
      ],
      "execution_count": 9,
      "outputs": []
    },
    {
      "cell_type": "code",
      "metadata": {
        "id": "JQWh-5zLfkGz",
        "colab_type": "code",
        "colab": {}
      },
      "source": [
        "training_labels_final=np.array(training_labels)\n",
        "test_labels_final=np.array(test_labels)"
      ],
      "execution_count": 10,
      "outputs": []
    },
    {
      "cell_type": "code",
      "metadata": {
        "id": "08wfWP4AU8ge",
        "colab_type": "code",
        "colab": {}
      },
      "source": [
        "import tensorflow as tf\n",
        "model=tf.keras.Sequential([\n",
        "                        tf.keras.layers.Embedding(vocab_size,embedding_dim,input_length=max_length),\n",
        "                        tf.keras.layers.GlobalAveragePooling1D(),\n",
        "                        tf.keras.layers.Dense(50,activation='relu'),\n",
        "                        tf.keras.layers.Dense(40,activation='relu'),\n",
        "                        tf.keras.layers.Dense(20,activation='relu'),\n",
        "                        tf.keras.layers.Dense(10,activation='relu'),\n",
        "                        tf.keras.layers.Dense(1,activation='sigmoid')\n",
        "                         ])"
      ],
      "execution_count": 11,
      "outputs": []
    },
    {
      "cell_type": "code",
      "metadata": {
        "id": "uDXCEXVlSMf1",
        "colab_type": "code",
        "colab": {
          "base_uri": "https://localhost:8080/",
          "height": 383
        },
        "outputId": "633cb465-513f-41fd-a50b-9764d328e064"
      },
      "source": [
        "model.summary()"
      ],
      "execution_count": 12,
      "outputs": [
        {
          "output_type": "stream",
          "text": [
            "Model: \"sequential\"\n",
            "_________________________________________________________________\n",
            "Layer (type)                 Output Shape              Param #   \n",
            "=================================================================\n",
            "embedding (Embedding)        (None, 32, 16)            160000    \n",
            "_________________________________________________________________\n",
            "global_average_pooling1d (Gl (None, 16)                0         \n",
            "_________________________________________________________________\n",
            "dense (Dense)                (None, 50)                850       \n",
            "_________________________________________________________________\n",
            "dense_1 (Dense)              (None, 40)                2040      \n",
            "_________________________________________________________________\n",
            "dense_2 (Dense)              (None, 20)                820       \n",
            "_________________________________________________________________\n",
            "dense_3 (Dense)              (None, 10)                210       \n",
            "_________________________________________________________________\n",
            "dense_4 (Dense)              (None, 1)                 11        \n",
            "=================================================================\n",
            "Total params: 163,931\n",
            "Trainable params: 163,931\n",
            "Non-trainable params: 0\n",
            "_________________________________________________________________\n"
          ],
          "name": "stdout"
        }
      ]
    },
    {
      "cell_type": "code",
      "metadata": {
        "id": "W8FiYCj6dTnZ",
        "colab_type": "code",
        "colab": {}
      },
      "source": [
        "model.compile(optimizer='adam',loss='binary_crossentropy',metrics=['accuracy'])"
      ],
      "execution_count": 13,
      "outputs": []
    },
    {
      "cell_type": "code",
      "metadata": {
        "id": "pjTY4-4rd5zM",
        "colab_type": "code",
        "colab": {
          "base_uri": "https://localhost:8080/",
          "height": 683
        },
        "outputId": "4107363e-2928-45d7-9860-de76e00bf91e"
      },
      "source": [
        "history=model.fit(training_padded,training_labels_final,\n",
        "                  validation_data=(test_padded,test_labels_final),\n",
        "                  epochs=20,verbose=2)"
      ],
      "execution_count": 14,
      "outputs": [
        {
          "output_type": "stream",
          "text": [
            "Epoch 1/20\n",
            "625/625 - 2s - loss: 0.4792 - accuracy: 0.7501 - val_loss: 0.3513 - val_accuracy: 0.8480\n",
            "Epoch 2/20\n",
            "625/625 - 2s - loss: 0.2567 - accuracy: 0.8949 - val_loss: 0.3512 - val_accuracy: 0.8514\n",
            "Epoch 3/20\n",
            "625/625 - 2s - loss: 0.1916 - accuracy: 0.9255 - val_loss: 0.3818 - val_accuracy: 0.8429\n",
            "Epoch 4/20\n",
            "625/625 - 2s - loss: 0.1472 - accuracy: 0.9469 - val_loss: 0.4156 - val_accuracy: 0.8438\n",
            "Epoch 5/20\n",
            "625/625 - 2s - loss: 0.1164 - accuracy: 0.9603 - val_loss: 0.4720 - val_accuracy: 0.8408\n",
            "Epoch 6/20\n",
            "625/625 - 2s - loss: 0.0960 - accuracy: 0.9674 - val_loss: 0.5688 - val_accuracy: 0.8219\n",
            "Epoch 7/20\n",
            "625/625 - 2s - loss: 0.0760 - accuracy: 0.9756 - val_loss: 0.5984 - val_accuracy: 0.8337\n",
            "Epoch 8/20\n",
            "625/625 - 2s - loss: 0.0619 - accuracy: 0.9808 - val_loss: 0.6369 - val_accuracy: 0.8280\n",
            "Epoch 9/20\n",
            "625/625 - 2s - loss: 0.0565 - accuracy: 0.9819 - val_loss: 0.6810 - val_accuracy: 0.8292\n",
            "Epoch 10/20\n",
            "625/625 - 2s - loss: 0.0453 - accuracy: 0.9863 - val_loss: 0.7818 - val_accuracy: 0.8232\n",
            "Epoch 11/20\n",
            "625/625 - 2s - loss: 0.0334 - accuracy: 0.9908 - val_loss: 0.7767 - val_accuracy: 0.8269\n",
            "Epoch 12/20\n",
            "625/625 - 2s - loss: 0.0309 - accuracy: 0.9905 - val_loss: 0.8408 - val_accuracy: 0.8186\n",
            "Epoch 13/20\n",
            "625/625 - 2s - loss: 0.0328 - accuracy: 0.9898 - val_loss: 0.8095 - val_accuracy: 0.8223\n",
            "Epoch 14/20\n",
            "625/625 - 2s - loss: 0.0289 - accuracy: 0.9908 - val_loss: 0.8439 - val_accuracy: 0.8228\n",
            "Epoch 15/20\n",
            "625/625 - 2s - loss: 0.0241 - accuracy: 0.9928 - val_loss: 0.9134 - val_accuracy: 0.8214\n",
            "Epoch 16/20\n",
            "625/625 - 2s - loss: 0.0203 - accuracy: 0.9937 - val_loss: 0.8903 - val_accuracy: 0.8223\n",
            "Epoch 17/20\n",
            "625/625 - 2s - loss: 0.0186 - accuracy: 0.9942 - val_loss: 0.9517 - val_accuracy: 0.8228\n",
            "Epoch 18/20\n",
            "625/625 - 2s - loss: 0.0186 - accuracy: 0.9941 - val_loss: 1.0709 - val_accuracy: 0.8165\n",
            "Epoch 19/20\n",
            "625/625 - 2s - loss: 0.0170 - accuracy: 0.9944 - val_loss: 0.9845 - val_accuracy: 0.8195\n",
            "Epoch 20/20\n",
            "625/625 - 2s - loss: 0.0129 - accuracy: 0.9961 - val_loss: 1.0787 - val_accuracy: 0.8123\n"
          ],
          "name": "stdout"
        }
      ]
    },
    {
      "cell_type": "code",
      "metadata": {
        "id": "AIBN5VY5k83W",
        "colab_type": "code",
        "colab": {
          "base_uri": "https://localhost:8080/",
          "height": 327
        },
        "outputId": "ce14f41b-dde7-4b9f-eeb8-245c1be0061f"
      },
      "source": [
        "import matplotlib.pyplot as plt\n",
        "\n",
        "def plot_graphs(history, string):\n",
        "  plt.plot(history.history[string])\n",
        "  plt.plot(history.history['val_'+string])\n",
        "  plt.xlabel(\"Epochs\")\n",
        "  plt.ylabel(string)\n",
        "  plt.legend([string,'val_'+string])\n",
        "  plt.show()\n",
        "\n",
        "plot_graphs(history, \"accurcy\")\n",
        "plot_graphs(history, \"loss\")"
      ],
      "execution_count": 15,
      "outputs": [
        {
          "output_type": "error",
          "ename": "KeyError",
          "evalue": "ignored",
          "traceback": [
            "\u001b[0;31m---------------------------------------------------------------------------\u001b[0m",
            "\u001b[0;31mKeyError\u001b[0m                                  Traceback (most recent call last)",
            "\u001b[0;32m<ipython-input-15-9ce6fb3c1e5d>\u001b[0m in \u001b[0;36m<module>\u001b[0;34m()\u001b[0m\n\u001b[1;32m      9\u001b[0m   \u001b[0mplt\u001b[0m\u001b[0;34m.\u001b[0m\u001b[0mshow\u001b[0m\u001b[0;34m(\u001b[0m\u001b[0;34m)\u001b[0m\u001b[0;34m\u001b[0m\u001b[0;34m\u001b[0m\u001b[0m\n\u001b[1;32m     10\u001b[0m \u001b[0;34m\u001b[0m\u001b[0m\n\u001b[0;32m---> 11\u001b[0;31m \u001b[0mplot_graphs\u001b[0m\u001b[0;34m(\u001b[0m\u001b[0mhistory\u001b[0m\u001b[0;34m,\u001b[0m \u001b[0;34m\"accurcy\"\u001b[0m\u001b[0;34m)\u001b[0m\u001b[0;34m\u001b[0m\u001b[0;34m\u001b[0m\u001b[0m\n\u001b[0m\u001b[1;32m     12\u001b[0m \u001b[0mplot_graphs\u001b[0m\u001b[0;34m(\u001b[0m\u001b[0mhistory\u001b[0m\u001b[0;34m,\u001b[0m \u001b[0;34m\"loss\"\u001b[0m\u001b[0;34m)\u001b[0m\u001b[0;34m\u001b[0m\u001b[0;34m\u001b[0m\u001b[0m\n",
            "\u001b[0;32m<ipython-input-15-9ce6fb3c1e5d>\u001b[0m in \u001b[0;36mplot_graphs\u001b[0;34m(history, string)\u001b[0m\n\u001b[1;32m      2\u001b[0m \u001b[0;34m\u001b[0m\u001b[0m\n\u001b[1;32m      3\u001b[0m \u001b[0;32mdef\u001b[0m \u001b[0mplot_graphs\u001b[0m\u001b[0;34m(\u001b[0m\u001b[0mhistory\u001b[0m\u001b[0;34m,\u001b[0m \u001b[0mstring\u001b[0m\u001b[0;34m)\u001b[0m\u001b[0;34m:\u001b[0m\u001b[0;34m\u001b[0m\u001b[0;34m\u001b[0m\u001b[0m\n\u001b[0;32m----> 4\u001b[0;31m   \u001b[0mplt\u001b[0m\u001b[0;34m.\u001b[0m\u001b[0mplot\u001b[0m\u001b[0;34m(\u001b[0m\u001b[0mhistory\u001b[0m\u001b[0;34m.\u001b[0m\u001b[0mhistory\u001b[0m\u001b[0;34m[\u001b[0m\u001b[0mstring\u001b[0m\u001b[0;34m]\u001b[0m\u001b[0;34m)\u001b[0m\u001b[0;34m\u001b[0m\u001b[0;34m\u001b[0m\u001b[0m\n\u001b[0m\u001b[1;32m      5\u001b[0m   \u001b[0mplt\u001b[0m\u001b[0;34m.\u001b[0m\u001b[0mplot\u001b[0m\u001b[0;34m(\u001b[0m\u001b[0mhistory\u001b[0m\u001b[0;34m.\u001b[0m\u001b[0mhistory\u001b[0m\u001b[0;34m[\u001b[0m\u001b[0;34m'val_'\u001b[0m\u001b[0;34m+\u001b[0m\u001b[0mstring\u001b[0m\u001b[0;34m]\u001b[0m\u001b[0;34m)\u001b[0m\u001b[0;34m\u001b[0m\u001b[0;34m\u001b[0m\u001b[0m\n\u001b[1;32m      6\u001b[0m   \u001b[0mplt\u001b[0m\u001b[0;34m.\u001b[0m\u001b[0mxlabel\u001b[0m\u001b[0;34m(\u001b[0m\u001b[0;34m\"Epochs\"\u001b[0m\u001b[0;34m)\u001b[0m\u001b[0;34m\u001b[0m\u001b[0;34m\u001b[0m\u001b[0m\n",
            "\u001b[0;31mKeyError\u001b[0m: 'accurcy'"
          ]
        }
      ]
    }
  ]
}